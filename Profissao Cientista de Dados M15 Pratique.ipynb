{
 "cells": [
  {
   "cell_type": "markdown",
   "metadata": {
    "id": "cJdp3B_SGk7T"
   },
   "source": [
    "# **MÓDULO 15 - Exercício**\n",
    "# Análise  - A segunda etapa da Pré Modelagem"
   ]
  },
  {
   "cell_type": "markdown",
   "metadata": {
    "id": "1OirkvkeGuGg"
   },
   "source": [
    "# 1) O primeiro exercício é o de salvar a base que criaram na atividade do módulo anterior em csv e abrir ela neste arquivo.\n",
    "Igual fizemos no início do módulo atual no início da primeira aula."
   ]
  },
  {
   "cell_type": "code",
   "execution_count": null,
   "metadata": {
    "id": "5ejO5WSgnhFs"
   },
   "outputs": [],
   "source": [
    "import seaborn as sns\n",
    "import matplotlib.pyplot as plt\n",
    "import pandas as pd\n",
    "import numpy as np\n",
    "import plotly.express as px"
   ]
  },
  {
   "cell_type": "code",
   "execution_count": 17,
   "metadata": {
    "id": "UD3a_pq7py5G"
   },
   "outputs": [
    {
     "name": "stdout",
     "output_type": "stream",
     "text": [
      "Estrutura do DataFrame:\n",
      "<class 'pandas.core.frame.DataFrame'>\n",
      "RangeIndex: 4 entries, 0 to 3\n",
      "Data columns (total 17 columns):\n",
      " #   Column              Non-Null Count  Dtype  \n",
      "---  ------              --------------  -----  \n",
      " 0   unnamed:_0          4 non-null      int64  \n",
      " 1   customerid          4 non-null      object \n",
      " 2   genero              4 non-null      object \n",
      " 3   idoso               4 non-null      int64  \n",
      " 4   casado              4 non-null      object \n",
      " 5   dependents          4 non-null      object \n",
      " 6   tempo_como_cliente  4 non-null      int64  \n",
      " 7   phoneservice        4 non-null      object \n",
      " 8   servico_internet    4 non-null      object \n",
      " 9   servico_seguranca   4 non-null      object \n",
      " 10  suporte_tecnico     4 non-null      object \n",
      " 11  streamingtv         4 non-null      object \n",
      " 12  tipo_contrato       4 non-null      object \n",
      " 13  paymentmethod       4 non-null      object \n",
      " 14  pagamento_mensal    4 non-null      object \n",
      " 15  total_pago          4 non-null      float64\n",
      " 16  churn               4 non-null      object \n",
      "dtypes: float64(1), int64(3), object(13)\n",
      "memory usage: 676.0+ bytes\n",
      "None\n"
     ]
    }
   ],
   "source": [
    "import pandas as pd\n",
    "\n",
    "# Carregar a base de dados\n",
    "df = pd.read_csv('C:/Users/DELL/Documents/ebac/portifolios/CHURNTELECON.csv', delimiter=';')\n",
    "\n",
    "# Verificar a estrutura do DataFrame\n",
    "print(\"Estrutura do DataFrame:\")\n",
    "print(df.info())\n"
   ]
  },
  {
   "cell_type": "markdown",
   "metadata": {
    "id": "3O70nJb2HNP2"
   },
   "source": [
    "# 2) Comece pela análise univariada:\n",
    "\n",
    "A) Utilize a função describe no seu dataframe, veja os insights que consegue retirar.\n",
    "\n",
    "B) Já é possível identificar variáveis com possíveis outliers? Se sim, quais?\n",
    "\n",
    "C) Plot gráficos que considerar importante para completar sua análise univariada. (Lembrando que sua variável preditora é o churn). Não se esqueça de trazer insights de cada gráfico plotado. Utilize pelo menos 4 variáveis distintas.\n",
    "\n",
    "D) Verifique se os dados das variáveis Booleanas são balanceados ou não."
   ]
  },
  {
   "cell_type": "code",
   "execution_count": 30,
   "metadata": {},
   "outputs": [
    {
     "name": "stdout",
     "output_type": "stream",
     "text": [
      "\n",
      "Outliers na variável 'pagamento_mensal':\n",
      "Empty DataFrame\n",
      "Columns: [unnamed:_0, customerid, genero, idoso, casado, dependents, tempo_como_cliente, phoneservice, servico_internet, servico_seguranca, suporte_tecnico, streamingtv, tipo_contrato, paymentmethod, pagamento_mensal, total_pago, churn]\n",
      "Index: []\n"
     ]
    }
   ],
   "source": [
    "import pandas as pd\n",
    "\n",
    "# Exemplo de DataFrame (substitua isso pelo seu DataFrame real)\n",
    "# df = pd.read_csv('seu_arquivo.csv')  # Carregue seu DataFrame aqui\n",
    "\n",
    "# Tente converter a coluna 'pagamento_mensal' para numérico\n",
    "df['pagamento_mensal'] = pd.to_numeric(df['pagamento_mensal'], errors='coerce')\n",
    "\n",
    "def detectar_outliers_iqr(coluna):\n",
    "    Q1 = df[coluna].quantile(0.25)\n",
    "    Q3 = df[coluna].quantile(0.75)\n",
    "    IQR = Q3 - Q1\n",
    "    limite_inferior = Q1 - 1.5 * IQR\n",
    "    limite_superior = Q3 + 1.5 * IQR\n",
    "    outliers = df[(df[coluna] < limite_inferior) | (df[coluna] > limite_superior)]\n",
    "    return outliers\n",
    "\n",
    "# Verifique outliers em 'pagamento_mensal'\n",
    "outliers_pagamento_mensal = detectar_outliers_iqr('pagamento_mensal')\n",
    "print(f\"\\nOutliers na variável 'pagamento_mensal':\")\n",
    "print(outliers_pagamento_mensal)\n"
   ]
  },
  {
   "cell_type": "markdown",
   "metadata": {
    "id": "kQ8r3_LVH_EJ"
   },
   "source": [
    "# 3) Identifique e trate as colunas que contém outliers.\n",
    "Caso opte por mante-los ou altera-los justifique sua escolha.\n"
   ]
  },
  {
   "cell_type": "code",
   "execution_count": 14,
   "metadata": {
    "id": "hL9I5plcGEAA"
   },
   "outputs": [
    {
     "name": "stdout",
     "output_type": "stream",
     "text": [
      "Estrutura do DataFrame:\n",
      "<class 'pandas.core.frame.DataFrame'>\n",
      "RangeIndex: 4 entries, 0 to 3\n",
      "Data columns (total 17 columns):\n",
      " #   Column              Non-Null Count  Dtype  \n",
      "---  ------              --------------  -----  \n",
      " 0   unnamed:_0          4 non-null      int64  \n",
      " 1   customerid          4 non-null      object \n",
      " 2   genero              4 non-null      object \n",
      " 3   idoso               4 non-null      int64  \n",
      " 4   casado              4 non-null      object \n",
      " 5   dependents          4 non-null      object \n",
      " 6   tempo_como_cliente  4 non-null      int64  \n",
      " 7   phoneservice        4 non-null      object \n",
      " 8   servico_internet    4 non-null      object \n",
      " 9   servico_seguranca   4 non-null      object \n",
      " 10  suporte_tecnico     4 non-null      object \n",
      " 11  streamingtv         4 non-null      object \n",
      " 12  tipo_contrato       4 non-null      object \n",
      " 13  paymentmethod       4 non-null      object \n",
      " 14  pagamento_mensal    4 non-null      object \n",
      " 15  total_pago          4 non-null      float64\n",
      " 16  churn               4 non-null      object \n",
      "dtypes: float64(1), int64(3), object(13)\n",
      "memory usage: 676.0+ bytes\n",
      "None\n",
      "\n",
      "Colunas no DataFrame:\n",
      "['unnamed:_0', 'customerid', 'genero', 'idoso', 'casado', 'dependents', 'tempo_como_cliente', 'phoneservice', 'servico_internet', 'servico_seguranca', 'suporte_tecnico', 'streamingtv', 'tipo_contrato', 'paymentmethod', 'pagamento_mensal', 'total_pago', 'churn']\n",
      "A coluna 'MonthlyCharges' não foi encontrada no DataFrame.\n"
     ]
    }
   ],
   "source": [
    "import pandas as pd\n",
    "import matplotlib.pyplot as plt\n",
    "import seaborn as sns\n",
    "\n",
    "# Carregar a base de dados com o delimitador correto\n",
    "df = pd.read_csv('C:/Users/DELL/Documents/ebac/portifolios/CHURNTELECON.csv', delimiter=';')\n",
    "\n",
    "# Verificar a estrutura do DataFrame\n",
    "print(\"Estrutura do DataFrame:\")\n",
    "print(df.info())\n",
    "\n",
    "# Verificar os nomes das colunas\n",
    "print(\"\\nColunas no DataFrame:\")\n",
    "print(df.columns.tolist())\n",
    "\n",
    "# Exemplo de detecção de outliers usando o desvio interquartil\n",
    "if 'MonthlyCharges' in df.columns:  # Verifica se a coluna existe\n",
    "    Q1 = df['MonthlyCharges'].quantile(0.25)\n",
    "    Q3 = df['MonthlyCharges'].quantile(0.75)\n",
    "    IQR = Q3 - Q1\n",
    "    print(f\"Q1: {Q1}, Q3: {Q3}, IQR: {IQR}\")\n",
    "else:\n",
    "    print(\"A coluna 'MonthlyCharges' não foi encontrada no DataFrame.\")\n",
    "\n"
   ]
  },
  {
   "cell_type": "markdown",
   "metadata": {
    "id": "l7XwsuFpIWKB"
   },
   "source": [
    "# 4) Realize a etapa da análise bivariada:\n",
    "A) Questione pelo menos 5 informações e traga as respostas utilizando visuais gráficos e insights.\n",
    "\n",
    "\n",
    "B) Quais variáveis você acredita serem as mais importantes para esse projetos relacionadas a variável Churn?"
   ]
  },
  {
   "cell_type": "code",
   "execution_count": 1,
   "metadata": {
    "id": "7APnjGTNGHYb"
   },
   "outputs": [
    {
     "ename": "NameError",
     "evalue": "name 'plt' is not defined",
     "output_type": "error",
     "traceback": [
      "\u001b[1;31m---------------------------------------------------------------------------\u001b[0m",
      "\u001b[1;31mNameError\u001b[0m                                 Traceback (most recent call last)",
      "Cell \u001b[1;32mIn[1], line 2\u001b[0m\n\u001b[0;32m      1\u001b[0m \u001b[38;5;66;03m# 1. Gráfico de dispersão de pagamento mensal vs churn\u001b[39;00m\n\u001b[1;32m----> 2\u001b[0m plt\u001b[38;5;241m.\u001b[39mfigure(figsize\u001b[38;5;241m=\u001b[39m(\u001b[38;5;241m10\u001b[39m, \u001b[38;5;241m5\u001b[39m))\n\u001b[0;32m      3\u001b[0m sns\u001b[38;5;241m.\u001b[39mboxplot(x\u001b[38;5;241m=\u001b[39m\u001b[38;5;124m'\u001b[39m\u001b[38;5;124mchurn\u001b[39m\u001b[38;5;124m'\u001b[39m, y\u001b[38;5;241m=\u001b[39m\u001b[38;5;124m'\u001b[39m\u001b[38;5;124mpagamento_mensal\u001b[39m\u001b[38;5;124m'\u001b[39m, data\u001b[38;5;241m=\u001b[39mdf)\n\u001b[0;32m      4\u001b[0m plt\u001b[38;5;241m.\u001b[39mtitle(\u001b[38;5;124m'\u001b[39m\u001b[38;5;124mPagamento Mensal por Status de Churn\u001b[39m\u001b[38;5;124m'\u001b[39m)\n",
      "\u001b[1;31mNameError\u001b[0m: name 'plt' is not defined"
     ]
    }
   ],
   "source": [
    "# 1. Gráfico de dispersão de pagamento mensal vs churn\n",
    "plt.figure(figsize=(10, 5))\n",
    "sns.boxplot(x='churn', y='pagamento_mensal', data=df)\n",
    "plt.title('Pagamento Mensal por Status de Churn')\n",
    "plt.xlabel('Churn')\n",
    "plt.ylabel('Pagamento Mensal')\n",
    "plt.show()\n",
    "\n",
    "# 2. Boxplot de tempo como cliente por churn\n",
    "plt.figure(figsize=(10, 5))\n",
    "sns.boxplot(x='churn', y='tempo_como_cliente', data=df)\n",
    "plt.title('Tempo como Cliente por Status de Churn')\n",
    "plt.xlabel('Churn')\n",
    "plt.ylabel('Tempo como Cliente')\n",
    "plt.show()\n",
    "\n",
    "# 3. Gráfico de barras para tipo de contrato vs churn\n",
    "plt.figure(figsize=(10, 5))\n",
    "sns.countplot(x='tipo_contrato', hue='churn', data=df)\n",
    "plt.title('Distribuição de Tipos de Contrato por Status de Churn')\n",
    "plt.xlabel('Tipo de Contrato')\n",
    "plt.ylabel('Contagem')\n",
    "plt.legend(title='Churn', labels=['Não', 'Sim'])\n",
    "plt.show()\n",
    "\n",
    "# 4. Gráfico de barras para estado civil vs churn\n",
    "plt.figure(figsize=(10, 5))\n",
    "sns.countplot(x='casado', hue='churn', data=df)\n",
    "plt.title('Distribuição de Estado Civil por Status de Churn')\n",
    "plt.xlabel('Casado')\n",
    "plt.ylabel('Contagem')\n",
    "plt.legend(title='Churn', labels=['Não', 'Sim'])\n",
    "plt.show()\n",
    "\n",
    "# 5. Gráfico de barras para serviços adicionais vs churn\n",
    "plt.figure(figsize=(10, 5))\n",
    "sns.countplot(x='suporte_tecnico', hue='churn', data=df)\n",
    "plt.title('Distribuição de Suporte Técnico por Status de Churn')\n",
    "plt.xlabel('Suporte Técnico')\n",
    "plt.ylabel('Contagem')\n",
    "plt.legend(title='Churn', labels=['Não', 'Sim'])\n",
    "plt.show()\n",
    "\n",
    "plt.figure(figsize=(10, 5))\n",
    "sns.countplot(x='streamingtv', hue='churn', data=df)\n",
    "plt.title('Distribuição de Streaming TV por Status de Churn')\n",
    "plt.xlabel('Streaming TV')\n",
    "plt.ylabel('Contagem')\n",
    "plt.legend(title='Churn', labels=['Não', 'Sim'])\n",
    "plt.show()\n",
    "\n"
   ]
  },
  {
   "cell_type": "code",
   "execution_count": null,
   "metadata": {},
   "outputs": [],
   "source": []
  }
 ],
 "metadata": {
  "colab": {
   "provenance": []
  },
  "kernelspec": {
   "display_name": "Python 3 (ipykernel)",
   "language": "python",
   "name": "python3"
  },
  "language_info": {
   "codemirror_mode": {
    "name": "ipython",
    "version": 3
   },
   "file_extension": ".py",
   "mimetype": "text/x-python",
   "name": "python",
   "nbconvert_exporter": "python",
   "pygments_lexer": "ipython3",
   "version": "3.12.4"
  }
 },
 "nbformat": 4,
 "nbformat_minor": 4
}
